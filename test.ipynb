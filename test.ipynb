{
 "cells": [
  {
   "cell_type": "code",
   "execution_count": 4,
   "metadata": {},
   "outputs": [
    {
     "name": "stdout",
     "output_type": "stream",
     "text": [
      "21\n",
      "19\n",
      "20\n",
      "18\n"
     ]
    }
   ],
   "source": [
    "import pandas as pd\n",
    " \n",
    "# Define a dictionary containing students data\n",
    "data = {'Name': ['Ankit', 'Amit',\n",
    "                 'Aishwarya', 'Priyanka'],\n",
    "        'Age': [21, 19, 20, 18],\n",
    "        'Stream': ['Math', 'Commerce',\n",
    "                   'Arts', 'Biology'],\n",
    "        'Percentage': [88, 92, 95, 70]}\n",
    " \n",
    "# Convert the dictionary into DataFrame\n",
    "df = pd.DataFrame(data, columns=['Name', 'Age', \n",
    "                                 'Stream', 'Percentage'])\n",
    "\n",
    "for i, row in df.iterrows():\n",
    "    print(row['Age'])"
   ]
  },
  {
   "cell_type": "code",
   "execution_count": 19,
   "metadata": {},
   "outputs": [
    {
     "name": "stdout",
     "output_type": "stream",
     "text": [
      "2022-01-18 10:47:37\n"
     ]
    }
   ],
   "source": [
    "from datetime import datetime as dt\n",
    "import pandas as pd\n",
    "ss=\"2022-01-18 10:47:37\"\n",
    "print(pd.to_datetime(ss))"
   ]
  },
  {
   "cell_type": "code",
   "execution_count": null,
   "metadata": {},
   "outputs": [],
   "source": []
  }
 ],
 "metadata": {
  "kernelspec": {
   "display_name": "Python 3",
   "language": "python",
   "name": "python3"
  },
  "language_info": {
   "codemirror_mode": {
    "name": "ipython",
    "version": 3
   },
   "file_extension": ".py",
   "mimetype": "text/x-python",
   "name": "python",
   "nbconvert_exporter": "python",
   "pygments_lexer": "ipython3",
   "version": "3.9.0"
  }
 },
 "nbformat": 4,
 "nbformat_minor": 2
}
