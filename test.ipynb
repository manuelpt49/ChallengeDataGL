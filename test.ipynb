{
 "cells": [
  {
   "cell_type": "code",
   "execution_count": 4,
   "metadata": {},
   "outputs": [
    {
     "name": "stdout",
     "output_type": "stream",
     "text": [
      "21\n",
      "19\n",
      "20\n",
      "18\n"
     ]
    }
   ],
   "source": [
    "import pandas as pd\n",
    " \n",
    "# Define a dictionary containing students data\n",
    "data = {'Name': ['Ankit', 'Amit',\n",
    "                 'Aishwarya', 'Priyanka'],\n",
    "        'Age': [21, 19, 20, 18],\n",
    "        'Stream': ['Math', 'Commerce',\n",
    "                   'Arts', 'Biology'],\n",
    "        'Percentage': [88, 92, 95, 70]}\n",
    " \n",
    "# Convert the dictionary into DataFrame\n",
    "df = pd.DataFrame(data, columns=['Name', 'Age', \n",
    "                                 'Stream', 'Percentage'])\n",
    "\n",
    "for i, row in df.iterrows():\n",
    "    print(row['Age'])"
   ]
  },
  {
   "cell_type": "code",
   "execution_count": 19,
   "metadata": {},
   "outputs": [
    {
     "name": "stdout",
     "output_type": "stream",
     "text": [
      "2022-01-18 10:47:37\n"
     ]
    }
   ],
   "source": [
    "from datetime import datetime as dt\n",
    "import pandas as pd\n",
    "ss=\"2022-01-18 10:47:37\"\n",
    "print(pd.to_datetime(ss))"
   ]
  },
  {
   "cell_type": "code",
   "execution_count": 20,
   "metadata": {},
   "outputs": [
    {
     "data": {
      "text/html": [
       "<div>\n",
       "<style scoped>\n",
       "    .dataframe tbody tr th:only-of-type {\n",
       "        vertical-align: middle;\n",
       "    }\n",
       "\n",
       "    .dataframe tbody tr th {\n",
       "        vertical-align: top;\n",
       "    }\n",
       "\n",
       "    .dataframe thead th {\n",
       "        text-align: right;\n",
       "    }\n",
       "</style>\n",
       "<table border=\"1\" class=\"dataframe\">\n",
       "  <thead>\n",
       "    <tr style=\"text-align: right;\">\n",
       "      <th></th>\n",
       "      <th>Name</th>\n",
       "      <th>Age</th>\n",
       "      <th>Stream</th>\n",
       "      <th>Percentage</th>\n",
       "    </tr>\n",
       "  </thead>\n",
       "  <tbody>\n",
       "    <tr>\n",
       "      <th>0</th>\n",
       "      <td>Ankit</td>\n",
       "      <td>21</td>\n",
       "      <td>Math</td>\n",
       "      <td>88</td>\n",
       "    </tr>\n",
       "    <tr>\n",
       "      <th>1</th>\n",
       "      <td>Amit</td>\n",
       "      <td>19</td>\n",
       "      <td>Commerce</td>\n",
       "      <td>92</td>\n",
       "    </tr>\n",
       "    <tr>\n",
       "      <th>2</th>\n",
       "      <td>Aishwarya</td>\n",
       "      <td>20</td>\n",
       "      <td>Arts</td>\n",
       "      <td>95</td>\n",
       "    </tr>\n",
       "    <tr>\n",
       "      <th>3</th>\n",
       "      <td>Priyanka</td>\n",
       "      <td>18</td>\n",
       "      <td>Biology</td>\n",
       "      <td>70</td>\n",
       "    </tr>\n",
       "  </tbody>\n",
       "</table>\n",
       "</div>"
      ],
      "text/plain": [
       "        Name  Age    Stream  Percentage\n",
       "0      Ankit   21      Math          88\n",
       "1       Amit   19  Commerce          92\n",
       "2  Aishwarya   20      Arts          95\n",
       "3   Priyanka   18   Biology          70"
      ]
     },
     "execution_count": 20,
     "metadata": {},
     "output_type": "execute_result"
    }
   ],
   "source": [
    "df"
   ]
  },
  {
   "cell_type": "code",
   "execution_count": 21,
   "metadata": {},
   "outputs": [
    {
     "data": {
      "text/plain": [
       "(4, 4)"
      ]
     },
     "execution_count": 21,
     "metadata": {},
     "output_type": "execute_result"
    }
   ],
   "source": [
    "df.shape"
   ]
  },
  {
   "cell_type": "code",
   "execution_count": 22,
   "metadata": {},
   "outputs": [
    {
     "data": {
      "text/plain": [
       "[('Accounting', 'Account Representative IV', 1, 0, 0, 0),\n",
       " ('Accounting', 'Actuary', 0, 1, 0, 0),\n",
       " ('Accounting', 'Analyst Programmer', 0, 0, 1, 0),\n",
       " ('Accounting', 'Budget/Accounting Analyst III', 0, 1, 0, 0),\n",
       " ('Accounting', 'Cost Accountant', 0, 1, 0, 0),\n",
       " ('Accounting', 'Database Administrator III', 0, 0, 0, 1)]"
      ]
     },
     "execution_count": 22,
     "metadata": {},
     "output_type": "execute_result"
    }
   ],
   "source": [
    "ss = [('Accounting', 'Account Representative IV', 1, 0, 0, 0), ('Accounting', 'Actuary', 0, 1, 0, 0), ('Accounting', 'Analyst Programmer', 0, 0, 1, 0), ('Accounting', 'Budget/Accounting Analyst III', 0, 1, 0, 0), ('Accounting', 'Cost Accountant', 0, 1, 0, 0), ('Accounting', 'Database Administrator III', 0, 0, 0, 1)]\n",
    "ss"
   ]
  },
  {
   "cell_type": "code",
   "execution_count": 23,
   "metadata": {},
   "outputs": [
    {
     "name": "stdout",
     "output_type": "stream",
     "text": [
      "[[\"Accounting\", \"Account Representative IV\", 1, 0, 0, 0], [\"Accounting\", \"Actuary\", 0, 1, 0, 0], [\"Accounting\", \"Analyst Programmer\", 0, 0, 1, 0], [\"Accounting\", \"Budget/Accounting Analyst III\", 0, 1, 0, 0], [\"Accounting\", \"Cost Accountant\", 0, 1, 0, 0], [\"Accounting\", \"Database Administrator III\", 0, 0, 0, 1]]\n"
     ]
    }
   ],
   "source": [
    "import json\n",
    "print(json.dumps(ss))"
   ]
  },
  {
   "cell_type": "code",
   "execution_count": 42,
   "metadata": {},
   "outputs": [
    {
     "name": "stdout",
     "output_type": "stream",
     "text": [
      "[{0: ('Accounting', 'Account Representative IV', 1, 0, 0, 0)}, {1: ('Accounting', 'Actuary', 0, 1, 0, 0)}, {2: ('Accounting', 'Analyst Programmer', 0, 0, 1, 0)}, {3: ('Accounting', 'Budget/Accounting Analyst III', 0, 1, 0, 0)}, {4: ('Accounting', 'Cost Accountant', 0, 1, 0, 0)}, {5: ('Accounting', 'Database Administrator III', 0, 0, 0, 1)}]\n",
      "<starlette.responses.JSONResponse object at 0x000001BD0546C4F0>\n"
     ]
    }
   ],
   "source": [
    "from fastapi.responses import JSONResponse\n",
    "result_list = [{i:tuple(ss[i])} for i in range(len(ss))]\n",
    "print(result_list)\n",
    "print(JSONResponse(content=result_list))\n"
   ]
  },
  {
   "cell_type": "code",
   "execution_count": 39,
   "metadata": {},
   "outputs": [
    {
     "data": {
      "text/plain": [
       "[('Accounting', 'Account Representative IV', 1, 0, 0, 0),\n",
       " ('Accounting', 'Actuary', 0, 1, 0, 0),\n",
       " ('Accounting', 'Analyst Programmer', 0, 0, 1, 0),\n",
       " ('Accounting', 'Budget/Accounting Analyst III', 0, 1, 0, 0),\n",
       " ('Accounting', 'Cost Accountant', 0, 1, 0, 0),\n",
       " ('Accounting', 'Database Administrator III', 0, 0, 0, 1)]"
      ]
     },
     "execution_count": 39,
     "metadata": {},
     "output_type": "execute_result"
    }
   ],
   "source": [
    "ss"
   ]
  },
  {
   "cell_type": "code",
   "execution_count": 32,
   "metadata": {},
   "outputs": [
    {
     "data": {
      "text/plain": [
       "[('Accounting', 'Account Representative IV', 1, 0, 0, 0),\n",
       " ('Accounting', 'Actuary', 0, 1, 0, 0),\n",
       " ('Accounting', 'Analyst Programmer', 0, 0, 1, 0),\n",
       " ('Accounting', 'Budget/Accounting Analyst III', 0, 1, 0, 0),\n",
       " ('Accounting', 'Cost Accountant', 0, 1, 0, 0),\n",
       " ('Accounting', 'Database Administrator III', 0, 0, 0, 1)]"
      ]
     },
     "execution_count": 32,
     "metadata": {},
     "output_type": "execute_result"
    }
   ],
   "source": [
    "ss"
   ]
  },
  {
   "cell_type": "code",
   "execution_count": null,
   "metadata": {},
   "outputs": [],
   "source": []
  }
 ],
 "metadata": {
  "kernelspec": {
   "display_name": "Python 3",
   "language": "python",
   "name": "python3"
  },
  "language_info": {
   "codemirror_mode": {
    "name": "ipython",
    "version": 3
   },
   "file_extension": ".py",
   "mimetype": "text/x-python",
   "name": "python",
   "nbconvert_exporter": "python",
   "pygments_lexer": "ipython3",
   "version": "3.9.0"
  }
 },
 "nbformat": 4,
 "nbformat_minor": 2
}
